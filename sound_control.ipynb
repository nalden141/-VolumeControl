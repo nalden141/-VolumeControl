{
 "cells": [
  {
   "cell_type": "code",
   "execution_count": 4,
   "id": "bb314eb7",
   "metadata": {},
   "outputs": [],
   "source": [
    "import time \n",
    "import cv2 as cv \n",
    "import mediapipe as mp\n",
    "import numpy as np\n",
    "import math\n",
    "from ctypes import cast, POINTER\n",
    "from comtypes import CLSCTX_ALL\n",
    "from pycaw.pycaw import AudioUtilities, IAudioEndpointVolume"
   ]
  },
  {
   "cell_type": "code",
   "execution_count": 5,
   "id": "4971769b",
   "metadata": {},
   "outputs": [],
   "source": [
    "cap=cv.VideoCapture(0)\n",
    "mpHands=mp.solutions.hands\n",
    "hands=mpHands.Hands(min_detection_confidence=0.7)\n",
    "mpDraw=mp.solutions.drawing_utils\n",
    "devices = AudioUtilities.GetSpeakers()\n",
    "interface = devices.Activate(\n",
    "    IAudioEndpointVolume._iid_, CLSCTX_ALL, None)\n",
    "volume = cast(interface, POINTER(IAudioEndpointVolume))\n",
    "ra=volume.GetVolumeRange()\n",
    "minv=ra[0]\n",
    "maxv=ra[1]\n",
    "vr=400\n",
    "vp=ptime=0\n",
    "\n",
    "while 1:\n",
    "    _,img=cap.read()\n",
    "    img=cv.flip(img,1)\n",
    "    rgb=img[:,:,::-1]\n",
    "    results=hands.process(rgb)\n",
    "    l=[]\n",
    "    if results.multi_hand_landmarks:\n",
    "        for hand in results.multi_hand_landmarks:\n",
    "            for iD,lm in enumerate(hand.landmark):\n",
    "                h,w,c=img.shape\n",
    "                cx,cy=int(lm.x*w),int(lm.y*h)\n",
    "                cv.circle(img,(cx,cy),1,(0,255,255),-1)\n",
    "                l.append([iD,cx,cy])\n",
    "            mpDraw.draw_landmarks(img,hand,mpHands.HAND_CONNECTIONS)\n",
    "    if len(l)!=0:\n",
    "        #print(l[4],l[8])\n",
    "        x1,y1=l[4][1],l[4][2]\n",
    "        x2,y2=l[8][1],l[8][2]\n",
    "        xc,yc=(x1+x2)//2,(y1+y2)//2\n",
    "        cv.circle(img,(x1,y1),15,(155,255,255),-1)\n",
    "        cv.circle(img,(x2,y2),15,(0,255,255),-1)\n",
    "        cv.line(img,(x1,y1),(x2,y2),(255,0,255),3)\n",
    "        cv.circle(img,(xc,yc),15,(255,0,255),-1)\n",
    "        length=math.hypot(x2-x1,y2-y1)\n",
    "        #print(length)\n",
    "        vol=np.interp(length,[25,250],[minv,maxv])\n",
    "        vr=np.interp(length,[25,250],[400,150])\n",
    "        vp=np.interp(length,[25,250],[0,100])\n",
    "        cv.putText(img,f'{int(vp)}%',(40,450),cv.FONT_HERSHEY_COMPLEX,1,(0,255,0),1)\n",
    "        volume.SetMasterVolumeLevel(vol, None)\n",
    "        cv.rectangle(img,(50,150),(85,400),(0,255,0),3)\n",
    "        cv.rectangle(img,(50,int(vr)),(85,400),(0,255,0),-1)        \n",
    "        if length<30:\n",
    "            cv.circle(img,(xc,yc),15,(0,0,255),-1)\n",
    "    ctime=time.time()\n",
    "    fps=1/(ctime-ptime)\n",
    "    ptime=ctime\n",
    "    cv.putText(img,str(int(fps)),(10,30),cv.FONT_HERSHEY_COMPLEX,1,(255,0,0),1)\n",
    "    cv.imshow('img',img)\n",
    "    if cv.waitKey(1)==ord('q'):\n",
    "        break\n",
    "cap.release()\n",
    "cv.destroyAllWindows()\n",
    "    "
   ]
  },
  {
   "cell_type": "code",
   "execution_count": 3,
   "id": "73b6e914",
   "metadata": {},
   "outputs": [
    {
     "data": {
      "text/plain": [
       "0"
      ]
     },
     "execution_count": 3,
     "metadata": {},
     "output_type": "execute_result"
    }
   ],
   "source": [
    "devices = AudioUtilities.GetSpeakers()\n",
    "interface = devices.Activate(\n",
    "    IAudioEndpointVolume._iid_, CLSCTX_ALL, None)\n",
    "volume = cast(interface, POINTER(IAudioEndpointVolume))\n",
    "ra=volume.GetVolumeRange()\n",
    "minv=ra[0]\n",
    "maxv=ra[1]\n",
    "volume.SetMasterVolumeLevel(-60.0, None)"
   ]
  },
  {
   "cell_type": "code",
   "execution_count": null,
   "id": "7900e5a0",
   "metadata": {},
   "outputs": [],
   "source": []
  }
 ],
 "metadata": {
  "kernelspec": {
   "display_name": "Python 3 (ipykernel)",
   "language": "python",
   "name": "python3"
  },
  "language_info": {
   "codemirror_mode": {
    "name": "ipython",
    "version": 3
   },
   "file_extension": ".py",
   "mimetype": "text/x-python",
   "name": "python",
   "nbconvert_exporter": "python",
   "pygments_lexer": "ipython3",
   "version": "3.9.12"
  }
 },
 "nbformat": 4,
 "nbformat_minor": 5
}
